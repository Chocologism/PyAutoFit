{
  "cells": [
    {
      "cell_type": "code",
      "metadata": {},
      "source": [
        "import autofit as af\n",
        "\n",
        "from howtofit.chapter_2_results.src.dataset import dataset as ds\n",
        "\n",
        "# The `settings.py` module is identical to the previous tutorial.\n",
        "\n",
        "\n",
        "class SettingsPhase(af.AbstractSettingsPhase):\n",
        "    def __init__(self, settings_masked_dataset=ds.SettingsMaskedDataset()):\n",
        "        super().__init__()\n",
        "\n",
        "        self.settings_masked_dataset = settings_masked_dataset\n",
        "\n",
        "    @property\n",
        "    def tag(self):\n",
        "        \"\"\"You may well have many more tags which appear here.\"\"\"\n",
        "\n",
        "        return \"settings\" + self.settings_masked_dataset.tag\n"
      ],
      "outputs": [],
      "execution_count": null
    }
  ],
  "metadata": {
    "anaconda-cloud": {},
    "kernelspec": {
      "display_name": "Python 3",
      "language": "python",
      "name": "python3"
    },
    "language_info": {
      "codemirror_mode": {
        "name": "ipython",
        "version": 3
      },
      "file_extension": ".py",
      "mimetype": "text/x-python",
      "name": "python",
      "nbconvert_exporter": "python",
      "pygments_lexer": "ipython3",
      "version": "3.6.1"
    }
  },
  "nbformat": 4,
  "nbformat_minor": 1
}