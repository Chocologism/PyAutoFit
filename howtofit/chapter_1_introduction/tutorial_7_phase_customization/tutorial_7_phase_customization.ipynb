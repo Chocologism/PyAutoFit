{
  "cells": [
    {
      "cell_type": "markdown",
      "metadata": {},
      "source": [
        "Tutorial 7: Phase Customization\n",
        "===============================\n",
        "\n",
        "In this tutorial, we're going to add input parameters to a Phase object that customizes the analysis. We'll use the\n",
        "specific example of two input parameters that trim our data-set from the left and right before fitting it. This\n",
        "example is somewhat trivial (we could achieve almost the same effect with masking), but it will serve to illustrate\n",
        "phase customization.\n",
        "\n",
        "When we customize a phase, we'll use these 'phase settings' to perform phase tagging. Here, we 'tag' the output\n",
        "path of the phase's results, such that every time a phase is run with a different customization a new set of\n",
        "unique results are stored for those settings. For a given data-set we are thus able to fit it multiple times using\n",
        "different settings to compare the results.\n",
        "\n",
        "These new features have led to an additional module in the 'phase' package called 'settings.py', as well as extensions\n",
        "to the 'dataset.py' module. Before looking at these modules, lets first perform a series of Emcee fits to see how\n",
        "they change the behaviour of PyAutoFit."
      ]
    },
    {
      "cell_type": "code",
      "metadata": {},
      "source": [
        "%matplotlib inline\n",
        "\n",
        "from autoconf import conf\n",
        "import autofit as af\n",
        "import numpy as np\n",
        "\n",
        "from autofit_workspace.howtofit.chapter_1_introduction.tutorial_7_phase_customization import (\n",
        "    src as htf,\n",
        ")\n",
        "\n",
        "import os\n",
        "\n",
        "workspace_path = os.environ[\"WORKSPACE\"]\n",
        "print(\"Workspace Path: \", workspace_path)"
      ],
      "outputs": [],
      "execution_count": null
    },
    {
      "cell_type": "markdown",
      "metadata": {},
      "source": [
        "Setup the configs as we did in the previous tutorial, as well as the output folder for our non-linear search."
      ]
    },
    {
      "cell_type": "code",
      "metadata": {},
      "source": [
        "conf.instance = conf.Config(\n",
        "    config_path=f\"{workspace_path}/howtofit/config\",\n",
        "    output_path=f\"{workspace_path}/howtofit/output/chapter_1\",\n",
        ")"
      ],
      "outputs": [],
      "execution_count": null
    },
    {
      "cell_type": "markdown",
      "metadata": {},
      "source": [
        "We're now going to perform multiple fits, where each fit trims the data-set that is fitted.\n",
        "\n",
        "To do this, we'll set up phases with a new class called _SettingsMaskedDataset_, which contains the settings that \n",
        "customize how a _MaskedDataset_ is created. This has two inputs, 'data_trim_left' and 'data_trim_right':\n",
        "\n",
        "- data_trim_left:\n",
        "\n",
        "  The dataset's image and noise-map are trimmed and removed from the left (e.g. 1d index values from 0).\n",
        "  \n",
        "  For example, if the _Dataset_ has shape (100,) and we set data_trim_left=10, the _MaskedDataset_ that is fitted will \n",
        "  have shape (90,). The mask is trimmed in the same way.\n",
        "\n",
        "- data_trim_right:\n",
        "\n",
        "  This behaves the same as data_trim_left, however data is removed from the right (e.g. 1D index values from the\n",
        "  shape[0] value of the 1D data).\n",
        "\n",
        "For our first phase, we will omit both of these settings (by setting them to None) and perform the fit from tutorial\n",
        "4 where we fit a single _Gaussian_ profile to data composed of a single _Gaussian_ (unlike tutorial 4, we'll use a\n",
        "CollectionPriorModel to do this)."
      ]
    },
    {
      "cell_type": "code",
      "metadata": {},
      "source": [
        "settings_masked_dataset = htf.SettingsMaskedDataset(\n",
        "    data_trim_left=None, data_trim_right=None\n",
        ")\n",
        "\n",
        "settings = htf.SettingsPhase(settings_masked_dataset=settings_masked_dataset)\n",
        "\n",
        "phase = htf.Phase(\n",
        "    phase_name=\"phase_t7\",\n",
        "    profiles=af.CollectionPriorModel(gaussian=htf.profiles.Gaussian),\n",
        "    settings=settings,\n",
        "    search=af.Emcee(),\n",
        ")"
      ],
      "outputs": [],
      "execution_count": null
    },
    {
      "cell_type": "markdown",
      "metadata": {},
      "source": [
        "Import the simulator module, set up the _Dataset_ and mask and set up the _Dataset_."
      ]
    },
    {
      "cell_type": "code",
      "metadata": {},
      "source": [
        "from autofit_workspace.howtofit.simulators.chapter_1 import gaussian_x1\n",
        "\n",
        "dataset = htf.Dataset(data=gaussian_x1.data, noise_map=gaussian_x1.noise_map)\n",
        "mask = np.full(fill_value=False, shape=dataset.data.shape)\n",
        "\n",
        "print(\n",
        "    \"Emcee has begun running - checkout the autofit_workspace/howtofit/chapter_1_introduction/output/phase_t6\"\n",
        "    \"folder for live output of the results.\"\n",
        "    \"This Jupyter notebook cell with progress once Emcee has completed - this could take a few minutes!\"\n",
        ")\n",
        "\n",
        "phase.run(dataset=dataset, mask=mask)\n",
        "\n",
        "print(\"Emcee has finished run - you may now continue the notebook.\")"
      ],
      "outputs": [],
      "execution_count": null
    },
    {
      "cell_type": "markdown",
      "metadata": {},
      "source": [
        "Okay, lets look at what happened differently in this phase. To begin, lets note the output directory:\n",
        "\n",
        "'autofit_workspace/howtofit/chapter_1_introduction/tutorial_7_phase_customization/output/phase_t7/settings'\n",
        "\n",
        "There is a small change to this directory compared to tutorial 6, there is a new folder 'settings' within which the\n",
        "results are stored. It'll be clear why this is in a moment.\n",
        "\n",
        "Next, we're going to customize and run a phase using the *data_trim_left* and *data_trim_right* parameters. First, we \n",
        "create a _SettingsMaskedDataset_ and _SettingsPhase_ object using our input values of these parameters. "
      ]
    },
    {
      "cell_type": "code",
      "metadata": {},
      "source": [
        "settings_masked_dataset = htf.SettingsMaskedDataset(\n",
        "    data_trim_left=20, data_trim_right=30\n",
        ")\n",
        "\n",
        "settings = htf.SettingsPhase(settings_masked_dataset=settings_masked_dataset)"
      ],
      "outputs": [],
      "execution_count": null
    },
    {
      "cell_type": "markdown",
      "metadata": {},
      "source": [
        "We now create a new phase with these settings and run it (note that we haven't changed the phase_name from 'phase_t7', \n",
        "which you might think would cause conflicts in the path the results are output to)."
      ]
    },
    {
      "cell_type": "code",
      "metadata": {},
      "source": [
        "phase = htf.Phase(\n",
        "    phase_name=\"phase_t7\",\n",
        "    profiles=af.CollectionPriorModel(gaussian=htf.profiles.Gaussian),\n",
        "    settings=settings,\n",
        "    search=af.Emcee(),\n",
        ")\n",
        "\n",
        "print(\n",
        "    \"Emcee has begun running - checkout the autofit_workspace/howtofit/chapter_1_introduction/output/phase_t6\"\n",
        "    \"folder for live output of the results.\"\n",
        "    \"This Jupyter notebook cell with progress once Emcee has completed - this could take a few minutes!\"\n",
        ")\n",
        "\n",
        "phase.run(dataset=dataset, mask=mask)\n",
        "\n",
        "print(\"Emcee has finished run - you may now continue the notebook.\")"
      ],
      "outputs": [],
      "execution_count": null
    },
    {
      "cell_type": "markdown",
      "metadata": {},
      "source": [
        "You'll note the results are now in a slightly different directory to the fit performed above:\n",
        "\n",
        " 'autofit_workspace/howtofit/chapter_1_introduction/tutorial_7_phase_customization/output/phase_example/settings__trim_left_20__trim_right_30'\n",
        "\n",
        "By customizing the phase's settings, PyAutoFit has changed it output path using a tag for this phase. There are two\n",
        "reasons PyAutoFit does this:\n",
        "\n",
        " 1) Tags describes the analysis, making it explicit what was done to the _Dataset_ for the fit.\n",
        "\n",
        " 2) Tags create a unique output path, allowing you to compare results of phases that use different settings. Equally,\n",
        "    if you run multiple phases with different settings this ensures the non-linear search (e.g. Emcee) won't\n",
        "    use results generated via a different analysis method.\n",
        "\n",
        "You should now check out the 'settings.py' and 'dataset.py' modules, to see how we implemented this.\n",
        "\n",
        "\n",
        "When reading through this tutorial's example source code, you may have felt it was a bit clunky having multiple \n",
        "_Settings_ classes each of which we needed to set up to customize the _MaskedDataset_ or the _Phase_. \n",
        "\n",
        "For the source code, it actually is quite clunky and could certainly be refactored to make the source code more clean. \n",
        "However, through experience we have found this design creates a much better API for a user when choosing settings, \n",
        "which will be seen in the next tutorial. Thus, we recommend you adopt the same settings API for your project!\n",
        "\n",
        "\n",
        "In this tutorial, the phase setting changed the _MaskedDataset_ that was fitted. However, phase settings do not \n",
        "necessarily need to customize the dataset. For example, they could control some aspect of the model, for example the \n",
        "precision by an aspect of the model is numerically calculated. For more complex fitting procedures, settings may control\n",
        "whether certain features are used, which when turned on / off reduce the accuracy of the model at the expensive of\n",
        "greater computational run-time.\n",
        "\n",
        "Phase settings are project specific and it could well be your modeling problem is simple enough not to need them.\n",
        "However, if it does, remember that phase settings are a powerful means to fit models using different settings and\n",
        "compare whether a setting does or does not change the model inferred. In later chapters, we'll discuss more complex\n",
        "model-fitting procedures that could use 'fast' less accurate settings to initialize the model-fit, but switch to\n",
        "slower more accurate settings later on."
      ]
    }
  ],
  "metadata": {
    "anaconda-cloud": {},
    "kernelspec": {
      "display_name": "Python 3",
      "language": "python",
      "name": "python3"
    },
    "language_info": {
      "codemirror_mode": {
        "name": "ipython",
        "version": 3
      },
      "file_extension": ".py",
      "mimetype": "text/x-python",
      "name": "python",
      "nbconvert_exporter": "python",
      "pygments_lexer": "ipython3",
      "version": "3.6.1"
    }
  },
  "nbformat": 4,
  "nbformat_minor": 1
}