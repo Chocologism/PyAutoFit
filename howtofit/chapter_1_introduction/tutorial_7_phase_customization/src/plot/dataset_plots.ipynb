{
  "cells": [
    {
      "cell_type": "code",
      "metadata": {},
      "source": [
        "from howtofit.chapter_1_introduction.tutorial_7_phase_customization.src.plot import (\n",
        "    line_plots,\n",
        ")\n",
        "\n",
        "\"\"\"The 'dataset_plots.py' module is unchanged from the previous tutorial.\"\"\"\n",
        "\n",
        "\n",
        "def data(dataset, output_path=None, output_filename=None, output_format=\"show\"):\n",
        "    \"\"\"Plot the data values of a Line _Dataset_.\n",
        "\n",
        "    Parameters\n",
        "    -----------\n",
        "    Line : _Dataset_.Line\n",
        "        The observed Line _Dataset_ whose data is plotted.\n",
        "    \"\"\"\n",
        "    line_plots.line(\n",
        "        xvalues=dataset.xvalues,\n",
        "        line=dataset.data,\n",
        "        ylabel=\"Data Values\",\n",
        "        output_path=output_path,\n",
        "        output_filename=output_filename,\n",
        "        output_format=output_format,\n",
        "    )\n",
        "\n",
        "\n",
        "def noise_map(dataset, output_path=None, output_filename=None, output_format=\"show\"):\n",
        "    \"\"\"Plot the noise-map of a Line _Dataset_.\n",
        "\n",
        "    Parameters\n",
        "    -----------\n",
        "    Line : _Dataset_.Line\n",
        "        The observed Line _Dataset_ whose data is plotted.\n",
        "    \"\"\"\n",
        "    line_plots.line(\n",
        "        xvalues=dataset.xvalues,\n",
        "        line=dataset.noise_map,\n",
        "        ylabel=\"Noise-Map\",\n",
        "        output_path=output_path,\n",
        "        output_filename=output_filename,\n",
        "        output_format=output_format,\n",
        "    )\n"
      ],
      "outputs": [],
      "execution_count": null
    }
  ],
  "metadata": {
    "anaconda-cloud": {},
    "kernelspec": {
      "display_name": "Python 3",
      "language": "python",
      "name": "python3"
    },
    "language_info": {
      "codemirror_mode": {
        "name": "ipython",
        "version": 3
      },
      "file_extension": ".py",
      "mimetype": "text/x-python",
      "name": "python",
      "nbconvert_exporter": "python",
      "pygments_lexer": "ipython3",
      "version": "3.6.1"
    }
  },
  "nbformat": 4,
  "nbformat_minor": 1
}