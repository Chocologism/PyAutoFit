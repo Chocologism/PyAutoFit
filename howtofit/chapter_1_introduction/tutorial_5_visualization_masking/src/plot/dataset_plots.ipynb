{
  "cells": [
    {
      "cell_type": "code",
      "metadata": {},
      "source": [
        "from howtofit.chapter_1_introduction.tutorial_5_visualization_masking.src.plot import (\n",
        "    line_plots,\n",
        ")\n",
        "\n",
        "\"\"\"\n",
        "To visualize images during a phase, we need to be able to output them to hard-disk as a file (e.g a .png`). The line\n",
        "plot function and `Dataset` plot functions below have been extended to provide this functionality.\n",
        "\n",
        "The benefit of writing our visualization methods in this style, as separate functions in a specific `plot` module is\n",
        "now more clear. In `visualizer.py`, this makes it a lot more straight forward to plot each component of the `Dataset`.\n",
        "However, the real benefit of this style will become fully apparently in tutorial 6.\n",
        "\"\"\"\n",
        "\n",
        "\n",
        "def data(dataset, output_path=None, output_filename=None, output_format=\"show\"):\n",
        "    \"\"\"Plot the data values of a Line `Dataset`.\n",
        "\n",
        "    Parameters\n",
        "    -----------\n",
        "    Line : `Dataset`.Line\n",
        "        The observed Line `Dataset` whose data is plotted.\n",
        "    \"\"\"\n",
        "    line_plots.line(\n",
        "        xvalues=dataset.xvalues,\n",
        "        line=dataset.data,\n",
        "        ylabel=\"Data Values\",\n",
        "        output_path=output_path,\n",
        "        output_filename=output_filename,\n",
        "        output_format=output_format,\n",
        "    )\n",
        "\n",
        "\n",
        "def noise_map(dataset, output_path=None, output_filename=None, output_format=\"show\"):\n",
        "    \"\"\"Plot the noise-map of a Line `Dataset`.\n",
        "\n",
        "    Parameters\n",
        "    -----------\n",
        "    Line : `Dataset`.Line\n",
        "        The observed Line `Dataset` whose data is plotted.\n",
        "    \"\"\"\n",
        "    line_plots.line(\n",
        "        xvalues=dataset.xvalues,\n",
        "        line=dataset.noise_map,\n",
        "        ylabel=\"Noise-Map\",\n",
        "        output_path=output_path,\n",
        "        output_filename=output_filename,\n",
        "        output_format=output_format,\n",
        "    )\n"
      ],
      "outputs": [],
      "execution_count": null
    }
  ],
  "metadata": {
    "anaconda-cloud": {},
    "kernelspec": {
      "display_name": "Python 3",
      "language": "python",
      "name": "python3"
    },
    "language_info": {
      "codemirror_mode": {
        "name": "ipython",
        "version": 3
      },
      "file_extension": ".py",
      "mimetype": "text/x-python",
      "name": "python",
      "nbconvert_exporter": "python",
      "pygments_lexer": "ipython3",
      "version": "3.6.1"
    }
  },
  "nbformat": 4,
  "nbformat_minor": 1
}