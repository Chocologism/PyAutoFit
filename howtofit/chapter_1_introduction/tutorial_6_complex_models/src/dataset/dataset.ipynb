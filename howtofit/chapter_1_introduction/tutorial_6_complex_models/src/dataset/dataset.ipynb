{
  "cells": [
    {
      "cell_type": "code",
      "metadata": {},
      "source": [
        "import numpy as np\n",
        "\n",
        "\"\"\"The `dataset.py` module is unchanged from the previous tutorial.\"\"\"\n",
        "\n",
        "\n",
        "class Dataset:\n",
        "    def __init__(self, data, noise_map):\n",
        "        \"\"\"A class containing the data and noise-map of a 1D line `Dataset`.\n",
        "\n",
        "        Parameters\n",
        "        ----------\n",
        "        data : np.ndarray\n",
        "            The array of the data, in arbitrary units.\n",
        "        noise_map : np.ndarray\n",
        "            An array describing the RMS standard deviation error in each data pixel, in arbitrary units.\n",
        "        \"\"\"\n",
        "        self.data = data\n",
        "        self.noise_map = noise_map\n",
        "\n",
        "    @property\n",
        "    def xvalues(self):\n",
        "        return np.arange(self.data.shape[0])\n",
        "\n",
        "\n",
        "class MaskedDataset:\n",
        "    def __init__(self, dataset, mask):\n",
        "        \"\"\"\n",
        "        A masked dataset, which is an image, noise-map and mask.\n",
        "\n",
        "        Parameters\n",
        "        ----------\n",
        "        dataset: im.Dataset\n",
        "            The `Dataset` (the image, noise-map, etc.)\n",
        "        mask: msk.Mask2D\n",
        "            The 1D mask that is applied to the `Dataset`.\n",
        "        \"\"\"\n",
        "\n",
        "        \"\"\"We store the unmasked `Dataset` in the masked-dataset, incase we need it for anything.\"\"\"\n",
        "        self.dataset = dataset\n",
        "\n",
        "        self.mask = mask\n",
        "\n",
        "        \"\"\"We apply the mask, setting all entries where the mask is ``True`` to zero.\"\"\"\n",
        "        self.data = dataset.data * np.invert(mask)\n",
        "\n",
        "        \"\"\"Same for the noise-map\"\"\"\n",
        "        self.noise_map = dataset.noise_map * np.invert(mask)\n",
        "\n",
        "    @property\n",
        "    def xvalues(self):\n",
        "        return np.arange(self.data.shape[0])\n",
        "\n",
        "    def signal_to_noise_map(self):\n",
        "        return self.data / self.noise_map\n"
      ],
      "outputs": [],
      "execution_count": null
    }
  ],
  "metadata": {
    "anaconda-cloud": {},
    "kernelspec": {
      "display_name": "Python 3",
      "language": "python",
      "name": "python3"
    },
    "language_info": {
      "codemirror_mode": {
        "name": "ipython",
        "version": 3
      },
      "file_extension": ".py",
      "mimetype": "text/x-python",
      "name": "python",
      "nbconvert_exporter": "python",
      "pygments_lexer": "ipython3",
      "version": "3.6.1"
    }
  },
  "nbformat": 4,
  "nbformat_minor": 1
}