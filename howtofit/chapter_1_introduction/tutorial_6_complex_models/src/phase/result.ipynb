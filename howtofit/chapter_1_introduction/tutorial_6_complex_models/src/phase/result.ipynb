{
  "cells": [
    {
      "cell_type": "code",
      "metadata": {},
      "source": [
        "import autofit as af\n",
        "\n",
        "# The 'result.py' module is unchanged from the previous tutorial, although there is a short comment below worth reading.\n",
        "\n",
        "\n",
        "class Result(af.Result):\n",
        "    def __init__(self, samples, previous_model, search, analysis):\n",
        "        \"\"\"\n",
        "        The results of a non-linear search performed by a phase.\n",
        "\n",
        "        Parameters\n",
        "        ----------\n",
        "        samples : af.Samples\n",
        "            A class containing the samples of the non-linear search, including methods to get the maximum log\n",
        "            likelihood model, errors, etc.\n",
        "        analysis : Analysis\n",
        "            The Analysis class used by this model-fit to fit the model to the data.\n",
        "        \"\"\"\n",
        "        super().__init__(samples=samples, previous_model=previous_model, search=search)\n",
        "        self.analysis = analysis\n",
        "\n",
        "    @property\n",
        "    def max_log_likelihood_model_data(self):\n",
        "\n",
        "        # It is worth noting why we store the 'Analysis' class in the Result class. In this tutorial, we changed our\n",
        "        # model and how it created the model-data (e.g. as a sum of profiles). However, we did not need to change\n",
        "        # the result module in any way, because it uses the 'analysis.py' module.\n",
        "\n",
        "        # Had this function explicitly written out how the most likely model-data is created it would of needed to be\n",
        "        # updated, creating more work for ourselves!\n",
        "\n",
        "        return self.analysis.model_data_from_instance(\n",
        "            instance=self.samples.max_log_likelihood_instance\n",
        "        )\n",
        "\n",
        "    @property\n",
        "    def max_log_likelihood_fit(self):\n",
        "        return self.analysis.fit_from_model_data(\n",
        "            model_data=self.max_log_likelihood_model_data\n",
        "        )\n"
      ],
      "outputs": [],
      "execution_count": null
    }
  ],
  "metadata": {
    "anaconda-cloud": {},
    "kernelspec": {
      "display_name": "Python 3",
      "language": "python",
      "name": "python3"
    },
    "language_info": {
      "codemirror_mode": {
        "name": "ipython",
        "version": 3
      },
      "file_extension": ".py",
      "mimetype": "text/x-python",
      "name": "python",
      "nbconvert_exporter": "python",
      "pygments_lexer": "ipython3",
      "version": "3.6.1"
    }
  },
  "nbformat": 4,
  "nbformat_minor": 1
}