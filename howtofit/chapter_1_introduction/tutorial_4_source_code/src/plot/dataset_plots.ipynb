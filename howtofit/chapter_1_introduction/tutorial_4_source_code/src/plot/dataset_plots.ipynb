{
  "cells": [
    {
      "cell_type": "code",
      "metadata": {},
      "source": [
        "from howtofit.chapter_1_introduction.tutorial_4_source_code.src.plot import (\n",
        "    line_plots,\n",
        ")\n",
        "\n",
        "\"\"\"\n",
        "These functions are simple matplotlib calls that plot components of our Line class, specifically its data and\n",
        "noise-map.\n",
        "\n",
        "Storing simple functions like this for plotting components of our `Dataset` will prove beneficial in later tutorials,\n",
        "when it comes to inspecting the results of a model-fit after they have been completed.\n",
        "\"\"\"\n",
        "\n",
        "\n",
        "def data(dataset):\n",
        "    \"\"\"Plot the data values of a Line `Dataset`.\n",
        "\n",
        "    Parameters\n",
        "    -----------\n",
        "    Line : `Dataset`.Line\n",
        "        The observed Line `Dataset` whose data is plotted.\n",
        "    \"\"\"\n",
        "    line_plots.line(xvalues=dataset.xvalues, line=dataset.data, ylabel=\"Data Values\")\n",
        "\n",
        "\n",
        "def noise_map(dataset):\n",
        "    \"\"\"Plot the noise-map of a Line `Dataset`.\n",
        "\n",
        "    Parameters\n",
        "    -----------\n",
        "    Line : `Dataset`.Line\n",
        "        The observed Line `Dataset` whose data is plotted.\n",
        "    \"\"\"\n",
        "    line_plots.line(xvalues=dataset.xvalues, line=dataset.noise_map, ylabel=\"Noise-Map\")\n"
      ],
      "outputs": [],
      "execution_count": null
    }
  ],
  "metadata": {
    "anaconda-cloud": {},
    "kernelspec": {
      "display_name": "Python 3",
      "language": "python",
      "name": "python3"
    },
    "language_info": {
      "codemirror_mode": {
        "name": "ipython",
        "version": 3
      },
      "file_extension": ".py",
      "mimetype": "text/x-python",
      "name": "python",
      "nbconvert_exporter": "python",
      "pygments_lexer": "ipython3",
      "version": "3.6.1"
    }
  },
  "nbformat": 4,
  "nbformat_minor": 1
}