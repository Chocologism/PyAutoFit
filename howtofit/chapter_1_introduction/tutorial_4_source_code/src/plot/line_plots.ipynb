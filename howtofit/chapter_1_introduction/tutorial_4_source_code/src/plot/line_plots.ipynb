{
  "cells": [
    {
      "cell_type": "code",
      "metadata": {},
      "source": [
        "import matplotlib.pyplot as plt\n",
        "\n",
        "\"\"\"This function plots a line of 1D data, and was already introduce in tutorial 2.\"\"\"\n",
        "\n",
        "\n",
        "def line(xvalues, line, title=None, color=\"k\", errors=None, ylabel=None):\n",
        "    \"\"\"Plot a 1D line of data on a plot of x versus y, where the x-axis is the x coordinate of the line and the y-axis\n",
        "    is the intensity of the line at that coordinate.\n",
        "\n",
        "    Parameters\n",
        "    ----------\n",
        "    xvalues : np.ndarray\n",
        "        The x-coordinates the profile is defined on.\n",
        "    line : np.ndarray\n",
        "        The intensity values of the profile which are plotted.\n",
        "    ylabel : str\n",
        "        The y-label of the plot.\n",
        "    \"\"\"\n",
        "\n",
        "    plt.errorbar(\n",
        "        x=xvalues, y=line, yerr=errors, color=color, ecolor=\"k\", elinewidth=1, capsize=2\n",
        "    )\n",
        "    plt.title(title)\n",
        "    plt.xlabel(\"x value of profile\")\n",
        "    plt.ylabel(ylabel)\n",
        "    plt.show()\n",
        "    plt.clf()\n"
      ],
      "outputs": [],
      "execution_count": null
    }
  ],
  "metadata": {
    "anaconda-cloud": {},
    "kernelspec": {
      "display_name": "Python 3",
      "language": "python",
      "name": "python3"
    },
    "language_info": {
      "codemirror_mode": {
        "name": "ipython",
        "version": 3
      },
      "file_extension": ".py",
      "mimetype": "text/x-python",
      "name": "python",
      "nbconvert_exporter": "python",
      "pygments_lexer": "ipython3",
      "version": "3.6.1"
    }
  },
  "nbformat": 4,
  "nbformat_minor": 1
}