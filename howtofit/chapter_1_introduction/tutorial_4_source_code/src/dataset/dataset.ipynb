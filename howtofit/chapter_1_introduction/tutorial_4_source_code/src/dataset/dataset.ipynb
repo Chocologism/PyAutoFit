{
  "cells": [
    {
      "cell_type": "code",
      "metadata": {},
      "source": [
        "import numpy as np\n",
        "\n",
        "\"\"\"\n",
        "This is our dataset, which in tutorial 1 stores a 1D `Gaussian` with a noise-map.\n",
        "\n",
        "Our data is a 1D numpy array of values corresponding to the observed counts of the Gaussian.\n",
        "The noise-map corresponds to the expected noise in every data point.\n",
        "\n",
        "In PyAutoFit we use the term `dataset` to represent the collection of data, noise-map, etc. that are fitted. In this\n",
        "chapter our `Dataset` is a 1D line, for your model-fitting problem your `Dataset` is probably more complex than this.\n",
        "\n",
        "In these tutorials we are calling our `Dataset` class `Dataset`, as opposed to something more specific to the data\n",
        "(e.g. `Line`). We advise that the `Dataset` class is give a more specific name (e.g., if your `Dataset` is imaging data,\n",
        "the class may be called `Imaging`. If your `Dataset` is a spectrum, you may use `Spectrum`).\n",
        "\n",
        "However, to make the tutorials clear, we`ve stuck with the name `Dataset` for clarity. The example project at the\n",
        "end of the chapter will adopt a more specific `Dataset` naming convention.\n",
        "\"\"\"\n",
        "\n",
        "\n",
        "class Dataset:\n",
        "    def __init__(self, data, noise_map):\n",
        "        \"\"\"A class containing the data and noise-map of a 1D line `Dataset`.\n",
        "\n",
        "        Parameters\n",
        "        ----------\n",
        "        data : np.ndarray\n",
        "            The array of the data, in arbitrary units.\n",
        "        noise_map : np.ndarray\n",
        "            An array describing the RMS standard deviation error in each data pixel, in arbitrary units.\n",
        "        \"\"\"\n",
        "        self.data = data\n",
        "        self.noise_map = noise_map\n",
        "\n",
        "    \"\"\"The `xvalues` defines the x coordinates of the 1D Gaussian, which we assume run from 0 the length of the data.\"\"\"\n",
        "\n",
        "    @property\n",
        "    def xvalues(self):\n",
        "        return np.arange(self.data.shape[0])\n"
      ],
      "outputs": [],
      "execution_count": null
    }
  ],
  "metadata": {
    "anaconda-cloud": {},
    "kernelspec": {
      "display_name": "Python 3",
      "language": "python",
      "name": "python3"
    },
    "language_info": {
      "codemirror_mode": {
        "name": "ipython",
        "version": 3
      },
      "file_extension": ".py",
      "mimetype": "text/x-python",
      "name": "python",
      "nbconvert_exporter": "python",
      "pygments_lexer": "ipython3",
      "version": "3.6.1"
    }
  },
  "nbformat": 4,
  "nbformat_minor": 1
}